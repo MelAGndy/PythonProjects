{
  "nbformat": 4,
  "nbformat_minor": 0,
  "metadata": {
    "colab": {
      "name": "MelGundy NYCSchoolTesting07072020.ipynb",
      "provenance": [],
      "collapsed_sections": []
    },
    "kernelspec": {
      "name": "python3",
      "display_name": "Python 3"
    },
    "language_info": {
      "name": "python"
    }
  },
  "cells": [
    {
      "cell_type": "code",
      "source": [
        "import pandas as pd\n",
        "import re\n",
        "import numpy as np\n",
        "import seaborn as sns\n",
        "import matplotlib.pyplot as plt\n",
        "%matplotlib inline"
      ],
      "metadata": {
        "id": "AKOc7-ZnDdO4"
      },
      "execution_count": null,
      "outputs": []
    },
    {
      "cell_type": "markdown",
      "source": [
        "IMPORT WITH FIXING THE STANDARD AND UNEXPECTED MISSING VALUES"
      ],
      "metadata": {
        "id": "oVcv2xfiHHiu"
      }
    },
    {
      "cell_type": "code",
      "execution_count": null,
      "metadata": {
        "id": "palE539jDcfb"
      },
      "outputs": [],
      "source": [
        "df = pd.read_csv('https://raw.githubusercontent.com/CunyLaguardiaDataAnalytics/datasets/master/2014-15_To_2016-17_School-_Level_NYC_Regents_Report_For_All_Variables.csv')"
      ]
    },
    {
      "cell_type": "code",
      "source": [
        "df.shape"
      ],
      "metadata": {
        "colab": {
          "base_uri": "https://localhost:8080/"
        },
        "id": "OvpPR4xOxqmT",
        "outputId": "75fe6647-4209-4bdb-e4fd-d664267d9d69"
      },
      "execution_count": null,
      "outputs": [
        {
          "output_type": "execute_result",
          "data": {
            "text/plain": [
              "(212331, 15)"
            ]
          },
          "metadata": {},
          "execution_count": 24
        }
      ]
    },
    {
      "cell_type": "code",
      "source": [
        "df.info()"
      ],
      "metadata": {
        "colab": {
          "base_uri": "https://localhost:8080/"
        },
        "id": "MOeD4UZqFMzg",
        "outputId": "281a4235-3096-482e-d098-77c92da7281c"
      },
      "execution_count": null,
      "outputs": [
        {
          "output_type": "stream",
          "name": "stdout",
          "text": [
            "<class 'pandas.core.frame.DataFrame'>\n",
            "RangeIndex: 212331 entries, 0 to 212330\n",
            "Data columns (total 15 columns):\n",
            " #   Column                       Non-Null Count   Dtype \n",
            "---  ------                       --------------   ----- \n",
            " 0   School DBN                   212331 non-null  object\n",
            " 1   School Name                  212331 non-null  object\n",
            " 2   School Level                 212331 non-null  object\n",
            " 3   Regents Exam                 212321 non-null  object\n",
            " 4   Year                         212331 non-null  int64 \n",
            " 5   Total Tested                 212331 non-null  int64 \n",
            " 6   Mean Score                   212331 non-null  object\n",
            " 7   Number Scoring Below 65      212331 non-null  object\n",
            " 8   Percent Scoring Below 65     212331 non-null  object\n",
            " 9   Number Scoring 65 or Above   212331 non-null  object\n",
            " 10  Percent Scoring 65 or Above  212331 non-null  object\n",
            " 11  Number Scoring 80 or Above   212331 non-null  object\n",
            " 12  Percent Scoring 80 or Above  212331 non-null  object\n",
            " 13  Number Scoring CR            212331 non-null  object\n",
            " 14  Percent Scoring CR           212331 non-null  object\n",
            "dtypes: int64(2), object(13)\n",
            "memory usage: 24.3+ MB\n"
          ]
        }
      ]
    },
    {
      "cell_type": "code",
      "source": [
        "df.head()"
      ],
      "metadata": {
        "id": "mBWlrvL-FWDl",
        "colab": {
          "base_uri": "https://localhost:8080/",
          "height": 476
        },
        "outputId": "93688b0e-f0de-485b-964b-2516a7e8cfda"
      },
      "execution_count": null,
      "outputs": [
        {
          "output_type": "execute_result",
          "data": {
            "text/plain": [
              "  School DBN                     School Name School Level  \\\n",
              "0     01M034  P.S. 034 Franklin D. Roosevelt          K-8   \n",
              "1     01M034  P.S. 034 Franklin D. Roosevelt          K-8   \n",
              "2     01M034  P.S. 034 Franklin D. Roosevelt          K-8   \n",
              "3     01M140          P.S. 140 Nathan Straus          K-8   \n",
              "4     01M140          P.S. 140 Nathan Straus          K-8   \n",
              "\n",
              "          Regents Exam  Year  Total Tested Mean Score Number Scoring Below 65  \\\n",
              "0  Common Core Algebra  2017             4          s                       s   \n",
              "1   Living Environment  2015            16       77.9                       1   \n",
              "2   Living Environment  2016             9         74                       1   \n",
              "3  Common Core Algebra  2016             3          s                       s   \n",
              "4  Common Core Algebra  2017             2          s                       s   \n",
              "\n",
              "  Percent Scoring Below 65 Number Scoring 65 or Above  \\\n",
              "0                        s                          s   \n",
              "1                      6.3                         15   \n",
              "2                     11.1                          8   \n",
              "3                        s                          s   \n",
              "4                        s                          s   \n",
              "\n",
              "  Percent Scoring 65 or Above Number Scoring 80 or Above  \\\n",
              "0                           s                          s   \n",
              "1                        93.8                          7   \n",
              "2                        88.9                          2   \n",
              "3                           s                          s   \n",
              "4                           s                          s   \n",
              "\n",
              "  Percent Scoring 80 or Above Number Scoring CR Percent Scoring CR  \n",
              "0                           s                na                 na  \n",
              "1                        43.8                na                 na  \n",
              "2                        22.2                na                 na  \n",
              "3                           s                na                 na  \n",
              "4                           s                na                 na  "
            ],
            "text/html": [
              "\n",
              "  <div id=\"df-e165053a-71ad-49fb-9f4e-28d18d01683e\">\n",
              "    <div class=\"colab-df-container\">\n",
              "      <div>\n",
              "<style scoped>\n",
              "    .dataframe tbody tr th:only-of-type {\n",
              "        vertical-align: middle;\n",
              "    }\n",
              "\n",
              "    .dataframe tbody tr th {\n",
              "        vertical-align: top;\n",
              "    }\n",
              "\n",
              "    .dataframe thead th {\n",
              "        text-align: right;\n",
              "    }\n",
              "</style>\n",
              "<table border=\"1\" class=\"dataframe\">\n",
              "  <thead>\n",
              "    <tr style=\"text-align: right;\">\n",
              "      <th></th>\n",
              "      <th>School DBN</th>\n",
              "      <th>School Name</th>\n",
              "      <th>School Level</th>\n",
              "      <th>Regents Exam</th>\n",
              "      <th>Year</th>\n",
              "      <th>Total Tested</th>\n",
              "      <th>Mean Score</th>\n",
              "      <th>Number Scoring Below 65</th>\n",
              "      <th>Percent Scoring Below 65</th>\n",
              "      <th>Number Scoring 65 or Above</th>\n",
              "      <th>Percent Scoring 65 or Above</th>\n",
              "      <th>Number Scoring 80 or Above</th>\n",
              "      <th>Percent Scoring 80 or Above</th>\n",
              "      <th>Number Scoring CR</th>\n",
              "      <th>Percent Scoring CR</th>\n",
              "    </tr>\n",
              "  </thead>\n",
              "  <tbody>\n",
              "    <tr>\n",
              "      <th>0</th>\n",
              "      <td>01M034</td>\n",
              "      <td>P.S. 034 Franklin D. Roosevelt</td>\n",
              "      <td>K-8</td>\n",
              "      <td>Common Core Algebra</td>\n",
              "      <td>2017</td>\n",
              "      <td>4</td>\n",
              "      <td>s</td>\n",
              "      <td>s</td>\n",
              "      <td>s</td>\n",
              "      <td>s</td>\n",
              "      <td>s</td>\n",
              "      <td>s</td>\n",
              "      <td>s</td>\n",
              "      <td>na</td>\n",
              "      <td>na</td>\n",
              "    </tr>\n",
              "    <tr>\n",
              "      <th>1</th>\n",
              "      <td>01M034</td>\n",
              "      <td>P.S. 034 Franklin D. Roosevelt</td>\n",
              "      <td>K-8</td>\n",
              "      <td>Living Environment</td>\n",
              "      <td>2015</td>\n",
              "      <td>16</td>\n",
              "      <td>77.9</td>\n",
              "      <td>1</td>\n",
              "      <td>6.3</td>\n",
              "      <td>15</td>\n",
              "      <td>93.8</td>\n",
              "      <td>7</td>\n",
              "      <td>43.8</td>\n",
              "      <td>na</td>\n",
              "      <td>na</td>\n",
              "    </tr>\n",
              "    <tr>\n",
              "      <th>2</th>\n",
              "      <td>01M034</td>\n",
              "      <td>P.S. 034 Franklin D. Roosevelt</td>\n",
              "      <td>K-8</td>\n",
              "      <td>Living Environment</td>\n",
              "      <td>2016</td>\n",
              "      <td>9</td>\n",
              "      <td>74</td>\n",
              "      <td>1</td>\n",
              "      <td>11.1</td>\n",
              "      <td>8</td>\n",
              "      <td>88.9</td>\n",
              "      <td>2</td>\n",
              "      <td>22.2</td>\n",
              "      <td>na</td>\n",
              "      <td>na</td>\n",
              "    </tr>\n",
              "    <tr>\n",
              "      <th>3</th>\n",
              "      <td>01M140</td>\n",
              "      <td>P.S. 140 Nathan Straus</td>\n",
              "      <td>K-8</td>\n",
              "      <td>Common Core Algebra</td>\n",
              "      <td>2016</td>\n",
              "      <td>3</td>\n",
              "      <td>s</td>\n",
              "      <td>s</td>\n",
              "      <td>s</td>\n",
              "      <td>s</td>\n",
              "      <td>s</td>\n",
              "      <td>s</td>\n",
              "      <td>s</td>\n",
              "      <td>na</td>\n",
              "      <td>na</td>\n",
              "    </tr>\n",
              "    <tr>\n",
              "      <th>4</th>\n",
              "      <td>01M140</td>\n",
              "      <td>P.S. 140 Nathan Straus</td>\n",
              "      <td>K-8</td>\n",
              "      <td>Common Core Algebra</td>\n",
              "      <td>2017</td>\n",
              "      <td>2</td>\n",
              "      <td>s</td>\n",
              "      <td>s</td>\n",
              "      <td>s</td>\n",
              "      <td>s</td>\n",
              "      <td>s</td>\n",
              "      <td>s</td>\n",
              "      <td>s</td>\n",
              "      <td>na</td>\n",
              "      <td>na</td>\n",
              "    </tr>\n",
              "  </tbody>\n",
              "</table>\n",
              "</div>\n",
              "      <button class=\"colab-df-convert\" onclick=\"convertToInteractive('df-e165053a-71ad-49fb-9f4e-28d18d01683e')\"\n",
              "              title=\"Convert this dataframe to an interactive table.\"\n",
              "              style=\"display:none;\">\n",
              "        \n",
              "  <svg xmlns=\"http://www.w3.org/2000/svg\" height=\"24px\"viewBox=\"0 0 24 24\"\n",
              "       width=\"24px\">\n",
              "    <path d=\"M0 0h24v24H0V0z\" fill=\"none\"/>\n",
              "    <path d=\"M18.56 5.44l.94 2.06.94-2.06 2.06-.94-2.06-.94-.94-2.06-.94 2.06-2.06.94zm-11 1L8.5 8.5l.94-2.06 2.06-.94-2.06-.94L8.5 2.5l-.94 2.06-2.06.94zm10 10l.94 2.06.94-2.06 2.06-.94-2.06-.94-.94-2.06-.94 2.06-2.06.94z\"/><path d=\"M17.41 7.96l-1.37-1.37c-.4-.4-.92-.59-1.43-.59-.52 0-1.04.2-1.43.59L10.3 9.45l-7.72 7.72c-.78.78-.78 2.05 0 2.83L4 21.41c.39.39.9.59 1.41.59.51 0 1.02-.2 1.41-.59l7.78-7.78 2.81-2.81c.8-.78.8-2.07 0-2.86zM5.41 20L4 18.59l7.72-7.72 1.47 1.35L5.41 20z\"/>\n",
              "  </svg>\n",
              "      </button>\n",
              "      \n",
              "  <style>\n",
              "    .colab-df-container {\n",
              "      display:flex;\n",
              "      flex-wrap:wrap;\n",
              "      gap: 12px;\n",
              "    }\n",
              "\n",
              "    .colab-df-convert {\n",
              "      background-color: #E8F0FE;\n",
              "      border: none;\n",
              "      border-radius: 50%;\n",
              "      cursor: pointer;\n",
              "      display: none;\n",
              "      fill: #1967D2;\n",
              "      height: 32px;\n",
              "      padding: 0 0 0 0;\n",
              "      width: 32px;\n",
              "    }\n",
              "\n",
              "    .colab-df-convert:hover {\n",
              "      background-color: #E2EBFA;\n",
              "      box-shadow: 0px 1px 2px rgba(60, 64, 67, 0.3), 0px 1px 3px 1px rgba(60, 64, 67, 0.15);\n",
              "      fill: #174EA6;\n",
              "    }\n",
              "\n",
              "    [theme=dark] .colab-df-convert {\n",
              "      background-color: #3B4455;\n",
              "      fill: #D2E3FC;\n",
              "    }\n",
              "\n",
              "    [theme=dark] .colab-df-convert:hover {\n",
              "      background-color: #434B5C;\n",
              "      box-shadow: 0px 1px 3px 1px rgba(0, 0, 0, 0.15);\n",
              "      filter: drop-shadow(0px 1px 2px rgba(0, 0, 0, 0.3));\n",
              "      fill: #FFFFFF;\n",
              "    }\n",
              "  </style>\n",
              "\n",
              "      <script>\n",
              "        const buttonEl =\n",
              "          document.querySelector('#df-e165053a-71ad-49fb-9f4e-28d18d01683e button.colab-df-convert');\n",
              "        buttonEl.style.display =\n",
              "          google.colab.kernel.accessAllowed ? 'block' : 'none';\n",
              "\n",
              "        async function convertToInteractive(key) {\n",
              "          const element = document.querySelector('#df-e165053a-71ad-49fb-9f4e-28d18d01683e');\n",
              "          const dataTable =\n",
              "            await google.colab.kernel.invokeFunction('convertToInteractive',\n",
              "                                                     [key], {});\n",
              "          if (!dataTable) return;\n",
              "\n",
              "          const docLinkHtml = 'Like what you see? Visit the ' +\n",
              "            '<a target=\"_blank\" href=https://colab.research.google.com/notebooks/data_table.ipynb>data table notebook</a>'\n",
              "            + ' to learn more about interactive tables.';\n",
              "          element.innerHTML = '';\n",
              "          dataTable['output_type'] = 'display_data';\n",
              "          await google.colab.output.renderOutput(dataTable, element);\n",
              "          const docLink = document.createElement('div');\n",
              "          docLink.innerHTML = docLinkHtml;\n",
              "          element.appendChild(docLink);\n",
              "        }\n",
              "      </script>\n",
              "    </div>\n",
              "  </div>\n",
              "  "
            ]
          },
          "metadata": {},
          "execution_count": 26
        }
      ]
    },
    {
      "cell_type": "code",
      "source": [
        "df.tail()"
      ],
      "metadata": {
        "colab": {
          "base_uri": "https://localhost:8080/",
          "height": 476
        },
        "id": "MiXo5EN7Fbc2",
        "outputId": "9a00b2df-e1b4-441f-d9c2-3bf4974b2e91"
      },
      "execution_count": null,
      "outputs": [
        {
          "output_type": "execute_result",
          "data": {
            "text/plain": [
              "       School DBN           School Name School Level  \\\n",
              "212326     84X717  Icahn Charter School          K-8   \n",
              "212327     84X717  Icahn Charter School          K-8   \n",
              "212328     84X717  Icahn Charter School          K-8   \n",
              "212329     84X717  Icahn Charter School          K-8   \n",
              "212330     84X717  Icahn Charter School          K-8   \n",
              "\n",
              "                       Regents Exam  Year  Total Tested Mean Score  \\\n",
              "212326           Living Environment  2016             8          s   \n",
              "212327           Living Environment  2016             5          s   \n",
              "212328           Living Environment  2017             6          s   \n",
              "212329           Living Environment  2017             4          s   \n",
              "212330  U.S. History and Government  2015             1          s   \n",
              "\n",
              "       Number Scoring Below 65 Percent Scoring Below 65  \\\n",
              "212326                       s                        s   \n",
              "212327                       s                        s   \n",
              "212328                       s                        s   \n",
              "212329                       s                        s   \n",
              "212330                       s                        s   \n",
              "\n",
              "       Number Scoring 65 or Above Percent Scoring 65 or Above  \\\n",
              "212326                          s                           s   \n",
              "212327                          s                           s   \n",
              "212328                          s                           s   \n",
              "212329                          s                           s   \n",
              "212330                          s                           s   \n",
              "\n",
              "       Number Scoring 80 or Above Percent Scoring 80 or Above  \\\n",
              "212326                          s                           s   \n",
              "212327                          s                           s   \n",
              "212328                          s                           s   \n",
              "212329                          s                           s   \n",
              "212330                          s                           s   \n",
              "\n",
              "       Number Scoring CR Percent Scoring CR  \n",
              "212326                na                 na  \n",
              "212327                na                 na  \n",
              "212328                na                 na  \n",
              "212329                na                 na  \n",
              "212330                na                 na  "
            ],
            "text/html": [
              "\n",
              "  <div id=\"df-c1bc648f-f89c-4843-a264-4f8b7f9953b8\">\n",
              "    <div class=\"colab-df-container\">\n",
              "      <div>\n",
              "<style scoped>\n",
              "    .dataframe tbody tr th:only-of-type {\n",
              "        vertical-align: middle;\n",
              "    }\n",
              "\n",
              "    .dataframe tbody tr th {\n",
              "        vertical-align: top;\n",
              "    }\n",
              "\n",
              "    .dataframe thead th {\n",
              "        text-align: right;\n",
              "    }\n",
              "</style>\n",
              "<table border=\"1\" class=\"dataframe\">\n",
              "  <thead>\n",
              "    <tr style=\"text-align: right;\">\n",
              "      <th></th>\n",
              "      <th>School DBN</th>\n",
              "      <th>School Name</th>\n",
              "      <th>School Level</th>\n",
              "      <th>Regents Exam</th>\n",
              "      <th>Year</th>\n",
              "      <th>Total Tested</th>\n",
              "      <th>Mean Score</th>\n",
              "      <th>Number Scoring Below 65</th>\n",
              "      <th>Percent Scoring Below 65</th>\n",
              "      <th>Number Scoring 65 or Above</th>\n",
              "      <th>Percent Scoring 65 or Above</th>\n",
              "      <th>Number Scoring 80 or Above</th>\n",
              "      <th>Percent Scoring 80 or Above</th>\n",
              "      <th>Number Scoring CR</th>\n",
              "      <th>Percent Scoring CR</th>\n",
              "    </tr>\n",
              "  </thead>\n",
              "  <tbody>\n",
              "    <tr>\n",
              "      <th>212326</th>\n",
              "      <td>84X717</td>\n",
              "      <td>Icahn Charter School</td>\n",
              "      <td>K-8</td>\n",
              "      <td>Living Environment</td>\n",
              "      <td>2016</td>\n",
              "      <td>8</td>\n",
              "      <td>s</td>\n",
              "      <td>s</td>\n",
              "      <td>s</td>\n",
              "      <td>s</td>\n",
              "      <td>s</td>\n",
              "      <td>s</td>\n",
              "      <td>s</td>\n",
              "      <td>na</td>\n",
              "      <td>na</td>\n",
              "    </tr>\n",
              "    <tr>\n",
              "      <th>212327</th>\n",
              "      <td>84X717</td>\n",
              "      <td>Icahn Charter School</td>\n",
              "      <td>K-8</td>\n",
              "      <td>Living Environment</td>\n",
              "      <td>2016</td>\n",
              "      <td>5</td>\n",
              "      <td>s</td>\n",
              "      <td>s</td>\n",
              "      <td>s</td>\n",
              "      <td>s</td>\n",
              "      <td>s</td>\n",
              "      <td>s</td>\n",
              "      <td>s</td>\n",
              "      <td>na</td>\n",
              "      <td>na</td>\n",
              "    </tr>\n",
              "    <tr>\n",
              "      <th>212328</th>\n",
              "      <td>84X717</td>\n",
              "      <td>Icahn Charter School</td>\n",
              "      <td>K-8</td>\n",
              "      <td>Living Environment</td>\n",
              "      <td>2017</td>\n",
              "      <td>6</td>\n",
              "      <td>s</td>\n",
              "      <td>s</td>\n",
              "      <td>s</td>\n",
              "      <td>s</td>\n",
              "      <td>s</td>\n",
              "      <td>s</td>\n",
              "      <td>s</td>\n",
              "      <td>na</td>\n",
              "      <td>na</td>\n",
              "    </tr>\n",
              "    <tr>\n",
              "      <th>212329</th>\n",
              "      <td>84X717</td>\n",
              "      <td>Icahn Charter School</td>\n",
              "      <td>K-8</td>\n",
              "      <td>Living Environment</td>\n",
              "      <td>2017</td>\n",
              "      <td>4</td>\n",
              "      <td>s</td>\n",
              "      <td>s</td>\n",
              "      <td>s</td>\n",
              "      <td>s</td>\n",
              "      <td>s</td>\n",
              "      <td>s</td>\n",
              "      <td>s</td>\n",
              "      <td>na</td>\n",
              "      <td>na</td>\n",
              "    </tr>\n",
              "    <tr>\n",
              "      <th>212330</th>\n",
              "      <td>84X717</td>\n",
              "      <td>Icahn Charter School</td>\n",
              "      <td>K-8</td>\n",
              "      <td>U.S. History and Government</td>\n",
              "      <td>2015</td>\n",
              "      <td>1</td>\n",
              "      <td>s</td>\n",
              "      <td>s</td>\n",
              "      <td>s</td>\n",
              "      <td>s</td>\n",
              "      <td>s</td>\n",
              "      <td>s</td>\n",
              "      <td>s</td>\n",
              "      <td>na</td>\n",
              "      <td>na</td>\n",
              "    </tr>\n",
              "  </tbody>\n",
              "</table>\n",
              "</div>\n",
              "      <button class=\"colab-df-convert\" onclick=\"convertToInteractive('df-c1bc648f-f89c-4843-a264-4f8b7f9953b8')\"\n",
              "              title=\"Convert this dataframe to an interactive table.\"\n",
              "              style=\"display:none;\">\n",
              "        \n",
              "  <svg xmlns=\"http://www.w3.org/2000/svg\" height=\"24px\"viewBox=\"0 0 24 24\"\n",
              "       width=\"24px\">\n",
              "    <path d=\"M0 0h24v24H0V0z\" fill=\"none\"/>\n",
              "    <path d=\"M18.56 5.44l.94 2.06.94-2.06 2.06-.94-2.06-.94-.94-2.06-.94 2.06-2.06.94zm-11 1L8.5 8.5l.94-2.06 2.06-.94-2.06-.94L8.5 2.5l-.94 2.06-2.06.94zm10 10l.94 2.06.94-2.06 2.06-.94-2.06-.94-.94-2.06-.94 2.06-2.06.94z\"/><path d=\"M17.41 7.96l-1.37-1.37c-.4-.4-.92-.59-1.43-.59-.52 0-1.04.2-1.43.59L10.3 9.45l-7.72 7.72c-.78.78-.78 2.05 0 2.83L4 21.41c.39.39.9.59 1.41.59.51 0 1.02-.2 1.41-.59l7.78-7.78 2.81-2.81c.8-.78.8-2.07 0-2.86zM5.41 20L4 18.59l7.72-7.72 1.47 1.35L5.41 20z\"/>\n",
              "  </svg>\n",
              "      </button>\n",
              "      \n",
              "  <style>\n",
              "    .colab-df-container {\n",
              "      display:flex;\n",
              "      flex-wrap:wrap;\n",
              "      gap: 12px;\n",
              "    }\n",
              "\n",
              "    .colab-df-convert {\n",
              "      background-color: #E8F0FE;\n",
              "      border: none;\n",
              "      border-radius: 50%;\n",
              "      cursor: pointer;\n",
              "      display: none;\n",
              "      fill: #1967D2;\n",
              "      height: 32px;\n",
              "      padding: 0 0 0 0;\n",
              "      width: 32px;\n",
              "    }\n",
              "\n",
              "    .colab-df-convert:hover {\n",
              "      background-color: #E2EBFA;\n",
              "      box-shadow: 0px 1px 2px rgba(60, 64, 67, 0.3), 0px 1px 3px 1px rgba(60, 64, 67, 0.15);\n",
              "      fill: #174EA6;\n",
              "    }\n",
              "\n",
              "    [theme=dark] .colab-df-convert {\n",
              "      background-color: #3B4455;\n",
              "      fill: #D2E3FC;\n",
              "    }\n",
              "\n",
              "    [theme=dark] .colab-df-convert:hover {\n",
              "      background-color: #434B5C;\n",
              "      box-shadow: 0px 1px 3px 1px rgba(0, 0, 0, 0.15);\n",
              "      filter: drop-shadow(0px 1px 2px rgba(0, 0, 0, 0.3));\n",
              "      fill: #FFFFFF;\n",
              "    }\n",
              "  </style>\n",
              "\n",
              "      <script>\n",
              "        const buttonEl =\n",
              "          document.querySelector('#df-c1bc648f-f89c-4843-a264-4f8b7f9953b8 button.colab-df-convert');\n",
              "        buttonEl.style.display =\n",
              "          google.colab.kernel.accessAllowed ? 'block' : 'none';\n",
              "\n",
              "        async function convertToInteractive(key) {\n",
              "          const element = document.querySelector('#df-c1bc648f-f89c-4843-a264-4f8b7f9953b8');\n",
              "          const dataTable =\n",
              "            await google.colab.kernel.invokeFunction('convertToInteractive',\n",
              "                                                     [key], {});\n",
              "          if (!dataTable) return;\n",
              "\n",
              "          const docLinkHtml = 'Like what you see? Visit the ' +\n",
              "            '<a target=\"_blank\" href=https://colab.research.google.com/notebooks/data_table.ipynb>data table notebook</a>'\n",
              "            + ' to learn more about interactive tables.';\n",
              "          element.innerHTML = '';\n",
              "          dataTable['output_type'] = 'display_data';\n",
              "          await google.colab.output.renderOutput(dataTable, element);\n",
              "          const docLink = document.createElement('div');\n",
              "          docLink.innerHTML = docLinkHtml;\n",
              "          element.appendChild(docLink);\n",
              "        }\n",
              "      </script>\n",
              "    </div>\n",
              "  </div>\n",
              "  "
            ]
          },
          "metadata": {},
          "execution_count": 27
        }
      ]
    },
    {
      "cell_type": "code",
      "source": [
        "df.isnull().sum()"
      ],
      "metadata": {
        "colab": {
          "base_uri": "https://localhost:8080/"
        },
        "id": "q24iMbfLxdH9",
        "outputId": "01f9a59c-d909-447b-fb38-8d60105fd896"
      },
      "execution_count": null,
      "outputs": [
        {
          "output_type": "execute_result",
          "data": {
            "text/plain": [
              "School DBN                      0\n",
              "School Name                     0\n",
              "School Level                    0\n",
              "Regents Exam                   10\n",
              "Year                            0\n",
              "Total Tested                    0\n",
              "Mean Score                      0\n",
              "Number Scoring Below 65         0\n",
              "Percent Scoring Below 65        0\n",
              "Number Scoring 65 or Above      0\n",
              "Percent Scoring 65 or Above     0\n",
              "Number Scoring 80 or Above      0\n",
              "Percent Scoring 80 or Above     0\n",
              "Number Scoring CR               0\n",
              "Percent Scoring CR              0\n",
              "dtype: int64"
            ]
          },
          "metadata": {},
          "execution_count": 28
        }
      ]
    },
    {
      "cell_type": "code",
      "source": [
        "missing_values = [\"s\", \"na\"]\n",
        "nycrts = pd.read_csv('https://raw.githubusercontent.com/CunyLaguardiaDataAnalytics/datasets/master/2014-15_To_2016-17_School-_Level_NYC_Regents_Report_For_All_Variables.csv', na_values = missing_values)"
      ],
      "metadata": {
        "id": "aKwA6oR-rQLa"
      },
      "execution_count": null,
      "outputs": []
    },
    {
      "cell_type": "code",
      "source": [
        "nycrts.info()"
      ],
      "metadata": {
        "colab": {
          "base_uri": "https://localhost:8080/"
        },
        "id": "betttdVxFrJS",
        "outputId": "5b61f7a8-852c-4fa9-cbaa-6dc8fe1f51d6"
      },
      "execution_count": null,
      "outputs": [
        {
          "output_type": "stream",
          "name": "stdout",
          "text": [
            "<class 'pandas.core.frame.DataFrame'>\n",
            "RangeIndex: 212331 entries, 0 to 212330\n",
            "Data columns (total 15 columns):\n",
            " #   Column                       Non-Null Count   Dtype  \n",
            "---  ------                       --------------   -----  \n",
            " 0   School DBN                   212331 non-null  object \n",
            " 1   School Name                  212331 non-null  object \n",
            " 2   School Level                 212331 non-null  object \n",
            " 3   Regents Exam                 212321 non-null  object \n",
            " 4   Year                         212331 non-null  int64  \n",
            " 5   Total Tested                 212331 non-null  int64  \n",
            " 6   Mean Score                   137109 non-null  float64\n",
            " 7   Number Scoring Below 65      137109 non-null  float64\n",
            " 8   Percent Scoring Below 65     137109 non-null  float64\n",
            " 9   Number Scoring 65 or Above   137109 non-null  float64\n",
            " 10  Percent Scoring 65 or Above  137109 non-null  float64\n",
            " 11  Number Scoring 80 or Above   137109 non-null  float64\n",
            " 12  Percent Scoring 80 or Above  137109 non-null  float64\n",
            " 13  Number Scoring CR            69651 non-null   float64\n",
            " 14  Percent Scoring CR           69651 non-null   float64\n",
            "dtypes: float64(9), int64(2), object(4)\n",
            "memory usage: 24.3+ MB\n"
          ]
        }
      ]
    },
    {
      "cell_type": "code",
      "source": [
        "nycrts.columns"
      ],
      "metadata": {
        "colab": {
          "base_uri": "https://localhost:8080/"
        },
        "id": "9kT62F9BR0-c",
        "outputId": "fcd7ddaf-fdd3-43b3-d01a-2322106a2195"
      },
      "execution_count": null,
      "outputs": [
        {
          "output_type": "execute_result",
          "data": {
            "text/plain": [
              "Index(['School DBN', 'School Name', 'School Level', 'Regents Exam', 'Year',\n",
              "       'Total Tested', 'Mean Score', 'Number Scoring Below 65',\n",
              "       'Percent Scoring Below 65', 'Number Scoring 65 or Above',\n",
              "       'Percent Scoring 65 or Above', 'Number Scoring 80 or Above',\n",
              "       'Percent Scoring 80 or Above', 'Number Scoring CR',\n",
              "       'Percent Scoring CR'],\n",
              "      dtype='object')"
            ]
          },
          "metadata": {},
          "execution_count": 31
        }
      ]
    },
    {
      "cell_type": "code",
      "source": [
        "drop_cols = ['Number Scoring Below 65','Number Scoring 65 or Above','Number Scoring 80 or Above', 'Number Scoring CR', 'Percent Scoring CR'] \n",
        "nycrts.drop(drop_cols, inplace = True, axis=1)"
      ],
      "metadata": {
        "id": "Dhoa5XGNP7bn"
      },
      "execution_count": null,
      "outputs": []
    },
    {
      "cell_type": "code",
      "source": [
        ""
      ],
      "metadata": {
        "id": "1Wtk0Xss7yeK"
      },
      "execution_count": null,
      "outputs": []
    },
    {
      "cell_type": "code",
      "source": [
        "nycrts.info()"
      ],
      "metadata": {
        "colab": {
          "base_uri": "https://localhost:8080/"
        },
        "id": "mSmus-e_QdFj",
        "outputId": "6802a3b2-72ee-45c1-d913-dd92907d37d5"
      },
      "execution_count": null,
      "outputs": [
        {
          "output_type": "stream",
          "name": "stdout",
          "text": [
            "<class 'pandas.core.frame.DataFrame'>\n",
            "RangeIndex: 212331 entries, 0 to 212330\n",
            "Data columns (total 10 columns):\n",
            " #   Column                       Non-Null Count   Dtype  \n",
            "---  ------                       --------------   -----  \n",
            " 0   School DBN                   212331 non-null  object \n",
            " 1   School Name                  212331 non-null  object \n",
            " 2   School Level                 212331 non-null  object \n",
            " 3   Regents Exam                 212321 non-null  object \n",
            " 4   Year                         212331 non-null  int64  \n",
            " 5   Total Tested                 212331 non-null  int64  \n",
            " 6   Mean Score                   137109 non-null  float64\n",
            " 7   Percent Scoring Below 65     137109 non-null  float64\n",
            " 8   Percent Scoring 65 or Above  137109 non-null  float64\n",
            " 9   Percent Scoring 80 or Above  137109 non-null  float64\n",
            "dtypes: float64(4), int64(2), object(4)\n",
            "memory usage: 16.2+ MB\n"
          ]
        }
      ]
    },
    {
      "cell_type": "code",
      "source": [
        "qrts_28 = nycrts[nycrts['School DBN'].str.contains('28Q')]\n",
        "set(qrts_28['School DBN'])"
      ],
      "metadata": {
        "id": "zQm9ruX_GBVF",
        "colab": {
          "base_uri": "https://localhost:8080/"
        },
        "outputId": "28e956a9-5cfa-43e4-f72f-e01d81922f6b"
      },
      "execution_count": null,
      "outputs": [
        {
          "output_type": "execute_result",
          "data": {
            "text/plain": [
              "{'28Q008',\n",
              " '28Q072',\n",
              " '28Q157',\n",
              " '28Q167',\n",
              " '28Q190',\n",
              " '28Q217',\n",
              " '28Q284',\n",
              " '28Q287',\n",
              " '28Q310',\n",
              " '28Q325',\n",
              " '28Q328',\n",
              " '28Q332',\n",
              " '28Q338',\n",
              " '28Q350',\n",
              " '28Q440',\n",
              " '28Q505',\n",
              " '28Q620',\n",
              " '28Q680',\n",
              " '28Q686',\n",
              " '28Q687',\n",
              " '28Q690',\n",
              " '28Q896'}"
            ]
          },
          "metadata": {},
          "execution_count": 34
        }
      ]
    },
    {
      "cell_type": "code",
      "source": [
        "qrts_28.columns"
      ],
      "metadata": {
        "colab": {
          "base_uri": "https://localhost:8080/"
        },
        "id": "f6Msdtc_LMiK",
        "outputId": "b48d75ee-0a69-4966-f90e-a0277bac1bd8"
      },
      "execution_count": null,
      "outputs": [
        {
          "output_type": "execute_result",
          "data": {
            "text/plain": [
              "Index(['School DBN', 'School Name', 'School Level', 'Regents Exam', 'Year',\n",
              "       'Total Tested', 'Mean Score', 'Percent Scoring Below 65',\n",
              "       'Percent Scoring 65 or Above', 'Percent Scoring 80 or Above'],\n",
              "      dtype='object')"
            ]
          },
          "metadata": {},
          "execution_count": 35
        }
      ]
    },
    {
      "cell_type": "code",
      "source": [
        "qrts_28 = nycrts[nycrts['School DBN'].str.contains('28Q')]\n",
        "set(qrts_28['School DBN'])"
      ],
      "metadata": {
        "colab": {
          "base_uri": "https://localhost:8080/"
        },
        "id": "8lWlJFN0xme8",
        "outputId": "e03cb4f2-9839-4202-bfae-26fa74b9a642"
      },
      "execution_count": null,
      "outputs": [
        {
          "output_type": "execute_result",
          "data": {
            "text/plain": [
              "{'28Q008',\n",
              " '28Q072',\n",
              " '28Q157',\n",
              " '28Q167',\n",
              " '28Q190',\n",
              " '28Q217',\n",
              " '28Q284',\n",
              " '28Q287',\n",
              " '28Q310',\n",
              " '28Q325',\n",
              " '28Q328',\n",
              " '28Q332',\n",
              " '28Q338',\n",
              " '28Q350',\n",
              " '28Q440',\n",
              " '28Q505',\n",
              " '28Q620',\n",
              " '28Q680',\n",
              " '28Q686',\n",
              " '28Q687',\n",
              " '28Q690',\n",
              " '28Q896'}"
            ]
          },
          "metadata": {},
          "execution_count": 36
        }
      ]
    },
    {
      "cell_type": "code",
      "source": [
        ""
      ],
      "metadata": {
        "id": "RWc3jC95FgZw"
      },
      "execution_count": null,
      "outputs": []
    },
    {
      "cell_type": "code",
      "source": [
        "qrts_28.groupby(['School Name','Year'])['Mean Score'].mean().sort_values(ascending=True)"
      ],
      "metadata": {
        "colab": {
          "base_uri": "https://localhost:8080/"
        },
        "id": "EVrpPvn8xKWK",
        "outputId": "e4b0ce1d-c9b8-4a42-d18a-b707e2acb514"
      },
      "execution_count": null,
      "outputs": [
        {
          "output_type": "execute_result",
          "data": {
            "text/plain": [
              "School Name                                         Year\n",
              "The Emerson School                                  2017    59.204762\n",
              "High School for Law Enforcement and Public Safety   2015    60.911236\n",
              "Queens Satellite High School for Opportunity        2017    61.063636\n",
              "High School for Law Enforcement and Public Safety   2017    61.217284\n",
              "                                                    2016    61.609901\n",
              "                                                              ...    \n",
              "Queens High School for the Sciences at York Colleg  2015    88.122535\n",
              "                                                    2016    88.340741\n",
              "J.H.S. 190 Russell Sage                             2016    88.872222\n",
              "Queens High School for the Sciences at York Colleg  2017    89.943056\n",
              "J.H.S. 190 Russell Sage                             2017    91.511111\n",
              "Name: Mean Score, Length: 63, dtype: float64"
            ]
          },
          "metadata": {},
          "execution_count": 37
        }
      ]
    },
    {
      "cell_type": "markdown",
      "source": [
        "NYC Schools District 28Q Rankings by averaging the Mean of combinded Regents Exams testing scores. "
      ],
      "metadata": {
        "id": "aW_5pIs6F50P"
      }
    },
    {
      "cell_type": "code",
      "source": [
        "qrts_28.groupby(['School Name', 'School DBN'])['Mean Score'].mean().sort_values(ascending=True).plot(kind='barh', x=['School Name'], y=['Mean Score'])"
      ],
      "metadata": {
        "colab": {
          "base_uri": "https://localhost:8080/",
          "height": 282
        },
        "id": "nSa_HGbBU6CF",
        "outputId": "d1a57709-04d2-4a61-f471-2c911c4ce5bf"
      },
      "execution_count": null,
      "outputs": [
        {
          "output_type": "execute_result",
          "data": {
            "text/plain": [
              "<matplotlib.axes._subplots.AxesSubplot at 0x7f4e1110f650>"
            ]
          },
          "metadata": {},
          "execution_count": 38
        },
        {
          "output_type": "display_data",
          "data": {
            "text/plain": [
              "<Figure size 432x288 with 1 Axes>"
            ],
            "image/png": "[encoded data removed]"
          },
          "metadata": {
            "needs_background": "light"
          }
        }
      ]
    },
    {
      "cell_type": "markdown",
      "source": [
        "Cross comparison of Forrest Hills High School with Queens Metropolitan High School"
      ],
      "metadata": {
        "id": "grKBNxf79EGy"
      }
    },
    {
      "cell_type": "code",
      "source": [
        "qrts_hs = qrts_28[(qrts_28['School Name'] == 'Forest Hills High School') | (qrts_28['School Name'] == 'Queens Metropolitan High School') | (qrts_28['Year'] == '2017')]"
      ],
      "metadata": {
        "id": "FfDUYWUs0Q4E"
      },
      "execution_count": null,
      "outputs": []
    },
    {
      "cell_type": "code",
      "source": [
        "qrts_hs.groupby(['School Name','Regents Exam'])['Mean Score'].mean().sort_values().plot(kind='barh', figsize=(5,14), x=['School Name'], y=['Mean Score'], title='Forest Hills H.S./Queens Metropolitan H.S. -Regents Exams averaged Median Score 2017')"
      ],
      "metadata": {
        "id": "zXnkGz5Qyibt",
        "colab": {
          "base_uri": "https://localhost:8080/",
          "height": 842
        },
        "outputId": "cd82e59f-e478-4d3c-bdef-8d8d5b19700f"
      },
      "execution_count": null,
      "outputs": [
        {
          "output_type": "execute_result",
          "data": {
            "text/plain": [
              "<matplotlib.axes._subplots.AxesSubplot at 0x7f4e0e160550>"
            ]
          },
          "metadata": {},
          "execution_count": 51
        },
        {
          "output_type": "display_data",
          "data": {
            "text/plain": [
              "<Figure size 360x1008 with 1 Axes>"
            ],
            "image/png": "[encoded data removed]"
          },
          "metadata": {
            "needs_background": "light"
          }
        }
      ]
    },
    {
      "cell_type": "code",
      "source": [
        "plt.style.available\n"
      ],
      "metadata": {
        "id": "BRF78ulGxK9U",
        "colab": {
          "base_uri": "https://localhost:8080/"
        },
        "outputId": "1ac75f16-1fea-40d0-fae2-d57feee4f12e"
      },
      "execution_count": null,
      "outputs": [
        {
          "output_type": "execute_result",
          "data": {
            "text/plain": [
              "['Solarize_Light2',\n",
              " '_classic_test_patch',\n",
              " 'bmh',\n",
              " 'classic',\n",
              " 'dark_background',\n",
              " 'fast',\n",
              " 'fivethirtyeight',\n",
              " 'ggplot',\n",
              " 'grayscale',\n",
              " 'seaborn',\n",
              " 'seaborn-bright',\n",
              " 'seaborn-colorblind',\n",
              " 'seaborn-dark',\n",
              " 'seaborn-dark-palette',\n",
              " 'seaborn-darkgrid',\n",
              " 'seaborn-deep',\n",
              " 'seaborn-muted',\n",
              " 'seaborn-notebook',\n",
              " 'seaborn-paper',\n",
              " 'seaborn-pastel',\n",
              " 'seaborn-poster',\n",
              " 'seaborn-talk',\n",
              " 'seaborn-ticks',\n",
              " 'seaborn-white',\n",
              " 'seaborn-whitegrid',\n",
              " 'tableau-colorblind10']"
            ]
          },
          "metadata": {},
          "execution_count": 41
        }
      ]
    }
  ]
}